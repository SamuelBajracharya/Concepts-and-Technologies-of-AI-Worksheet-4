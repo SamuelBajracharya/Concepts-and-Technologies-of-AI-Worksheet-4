{
  "nbformat": 4,
  "nbformat_minor": 0,
  "metadata": {
    "colab": {
      "provenance": []
    },
    "kernelspec": {
      "name": "python3",
      "display_name": "Python 3"
    },
    "language_info": {
      "name": "python"
    }
  },
  "cells": [
    {
      "cell_type": "code",
      "execution_count": 111,
      "metadata": {
        "colab": {
          "base_uri": "https://localhost:8080/"
        },
        "id": "c7XROdCtdqwP",
        "outputId": "94052a61-736a-4989-b6bc-2d5d165ccbf5"
      },
      "outputs": [
        {
          "output_type": "stream",
          "name": "stdout",
          "text": [
            "Drive already mounted at /content/drive; to attempt to forcibly remount, call drive.mount(\"/content/drive\", force_remount=True).\n"
          ]
        }
      ],
      "source": [
        "# mounting and importing required library\n",
        "import pandas as pd\n",
        "import numpy as np\n",
        "import matplotlib.pyplot as plt\n",
        "from timeit import timeit\n",
        "from google.colab import drive\n",
        "drive.mount('/content/drive')\n"
      ]
    },
    {
      "cell_type": "markdown",
      "source": [
        "#Problem - 1: Perform a classification task with knn from scratch.\n",
        "##1. Load the Dataset:\n",
        "• Read the dataset into a pandas DataFrame.\n",
        "\n",
        "• Display the first few rows and perform exploratory data analysis (EDA) to understand the dataset\n",
        "(e.g., check data types, missing values, summary statistics)."
      ],
      "metadata": {
        "id": "Z9TJYWXBs_Kh"
      }
    },
    {
      "cell_type": "code",
      "source": [
        "# reading the dataset ito a dataframe\n",
        "dataframe = pd.read_csv('/content/drive/MyDrive/Datasets/diabetes.csv')\n",
        "# displaying first few rows\n",
        "dataframe.head()"
      ],
      "metadata": {
        "colab": {
          "base_uri": "https://localhost:8080/",
          "height": 226
        },
        "id": "yTNUyqewtOuj",
        "outputId": "2e439376-bf56-45cf-c607-acec13a0bf35"
      },
      "execution_count": 67,
      "outputs": [
        {
          "output_type": "execute_result",
          "data": {
            "text/plain": [
              "   Pregnancies  Glucose  BloodPressure  SkinThickness  Insulin   BMI  \\\n",
              "0            6      148             72             35        0  33.6   \n",
              "1            1       85             66             29        0  26.6   \n",
              "2            8      183             64              0        0  23.3   \n",
              "3            1       89             66             23       94  28.1   \n",
              "4            0      137             40             35      168  43.1   \n",
              "\n",
              "   DiabetesPedigreeFunction  Age  Outcome  \n",
              "0                     0.627   50        1  \n",
              "1                     0.351   31        0  \n",
              "2                     0.672   32        1  \n",
              "3                     0.167   21        0  \n",
              "4                     2.288   33        1  "
            ],
            "text/html": [
              "\n",
              "  <div id=\"df-5a60562e-d6f8-4904-8198-45ad108b60ce\" class=\"colab-df-container\">\n",
              "    <div>\n",
              "<style scoped>\n",
              "    .dataframe tbody tr th:only-of-type {\n",
              "        vertical-align: middle;\n",
              "    }\n",
              "\n",
              "    .dataframe tbody tr th {\n",
              "        vertical-align: top;\n",
              "    }\n",
              "\n",
              "    .dataframe thead th {\n",
              "        text-align: right;\n",
              "    }\n",
              "</style>\n",
              "<table border=\"1\" class=\"dataframe\">\n",
              "  <thead>\n",
              "    <tr style=\"text-align: right;\">\n",
              "      <th></th>\n",
              "      <th>Pregnancies</th>\n",
              "      <th>Glucose</th>\n",
              "      <th>BloodPressure</th>\n",
              "      <th>SkinThickness</th>\n",
              "      <th>Insulin</th>\n",
              "      <th>BMI</th>\n",
              "      <th>DiabetesPedigreeFunction</th>\n",
              "      <th>Age</th>\n",
              "      <th>Outcome</th>\n",
              "    </tr>\n",
              "  </thead>\n",
              "  <tbody>\n",
              "    <tr>\n",
              "      <th>0</th>\n",
              "      <td>6</td>\n",
              "      <td>148</td>\n",
              "      <td>72</td>\n",
              "      <td>35</td>\n",
              "      <td>0</td>\n",
              "      <td>33.6</td>\n",
              "      <td>0.627</td>\n",
              "      <td>50</td>\n",
              "      <td>1</td>\n",
              "    </tr>\n",
              "    <tr>\n",
              "      <th>1</th>\n",
              "      <td>1</td>\n",
              "      <td>85</td>\n",
              "      <td>66</td>\n",
              "      <td>29</td>\n",
              "      <td>0</td>\n",
              "      <td>26.6</td>\n",
              "      <td>0.351</td>\n",
              "      <td>31</td>\n",
              "      <td>0</td>\n",
              "    </tr>\n",
              "    <tr>\n",
              "      <th>2</th>\n",
              "      <td>8</td>\n",
              "      <td>183</td>\n",
              "      <td>64</td>\n",
              "      <td>0</td>\n",
              "      <td>0</td>\n",
              "      <td>23.3</td>\n",
              "      <td>0.672</td>\n",
              "      <td>32</td>\n",
              "      <td>1</td>\n",
              "    </tr>\n",
              "    <tr>\n",
              "      <th>3</th>\n",
              "      <td>1</td>\n",
              "      <td>89</td>\n",
              "      <td>66</td>\n",
              "      <td>23</td>\n",
              "      <td>94</td>\n",
              "      <td>28.1</td>\n",
              "      <td>0.167</td>\n",
              "      <td>21</td>\n",
              "      <td>0</td>\n",
              "    </tr>\n",
              "    <tr>\n",
              "      <th>4</th>\n",
              "      <td>0</td>\n",
              "      <td>137</td>\n",
              "      <td>40</td>\n",
              "      <td>35</td>\n",
              "      <td>168</td>\n",
              "      <td>43.1</td>\n",
              "      <td>2.288</td>\n",
              "      <td>33</td>\n",
              "      <td>1</td>\n",
              "    </tr>\n",
              "  </tbody>\n",
              "</table>\n",
              "</div>\n",
              "    <div class=\"colab-df-buttons\">\n",
              "\n",
              "  <div class=\"colab-df-container\">\n",
              "    <button class=\"colab-df-convert\" onclick=\"convertToInteractive('df-5a60562e-d6f8-4904-8198-45ad108b60ce')\"\n",
              "            title=\"Convert this dataframe to an interactive table.\"\n",
              "            style=\"display:none;\">\n",
              "\n",
              "  <svg xmlns=\"http://www.w3.org/2000/svg\" height=\"24px\" viewBox=\"0 -960 960 960\">\n",
              "    <path d=\"M120-120v-720h720v720H120Zm60-500h600v-160H180v160Zm220 220h160v-160H400v160Zm0 220h160v-160H400v160ZM180-400h160v-160H180v160Zm440 0h160v-160H620v160ZM180-180h160v-160H180v160Zm440 0h160v-160H620v160Z\"/>\n",
              "  </svg>\n",
              "    </button>\n",
              "\n",
              "  <style>\n",
              "    .colab-df-container {\n",
              "      display:flex;\n",
              "      gap: 12px;\n",
              "    }\n",
              "\n",
              "    .colab-df-convert {\n",
              "      background-color: #E8F0FE;\n",
              "      border: none;\n",
              "      border-radius: 50%;\n",
              "      cursor: pointer;\n",
              "      display: none;\n",
              "      fill: #1967D2;\n",
              "      height: 32px;\n",
              "      padding: 0 0 0 0;\n",
              "      width: 32px;\n",
              "    }\n",
              "\n",
              "    .colab-df-convert:hover {\n",
              "      background-color: #E2EBFA;\n",
              "      box-shadow: 0px 1px 2px rgba(60, 64, 67, 0.3), 0px 1px 3px 1px rgba(60, 64, 67, 0.15);\n",
              "      fill: #174EA6;\n",
              "    }\n",
              "\n",
              "    .colab-df-buttons div {\n",
              "      margin-bottom: 4px;\n",
              "    }\n",
              "\n",
              "    [theme=dark] .colab-df-convert {\n",
              "      background-color: #3B4455;\n",
              "      fill: #D2E3FC;\n",
              "    }\n",
              "\n",
              "    [theme=dark] .colab-df-convert:hover {\n",
              "      background-color: #434B5C;\n",
              "      box-shadow: 0px 1px 3px 1px rgba(0, 0, 0, 0.15);\n",
              "      filter: drop-shadow(0px 1px 2px rgba(0, 0, 0, 0.3));\n",
              "      fill: #FFFFFF;\n",
              "    }\n",
              "  </style>\n",
              "\n",
              "    <script>\n",
              "      const buttonEl =\n",
              "        document.querySelector('#df-5a60562e-d6f8-4904-8198-45ad108b60ce button.colab-df-convert');\n",
              "      buttonEl.style.display =\n",
              "        google.colab.kernel.accessAllowed ? 'block' : 'none';\n",
              "\n",
              "      async function convertToInteractive(key) {\n",
              "        const element = document.querySelector('#df-5a60562e-d6f8-4904-8198-45ad108b60ce');\n",
              "        const dataTable =\n",
              "          await google.colab.kernel.invokeFunction('convertToInteractive',\n",
              "                                                    [key], {});\n",
              "        if (!dataTable) return;\n",
              "\n",
              "        const docLinkHtml = 'Like what you see? Visit the ' +\n",
              "          '<a target=\"_blank\" href=https://colab.research.google.com/notebooks/data_table.ipynb>data table notebook</a>'\n",
              "          + ' to learn more about interactive tables.';\n",
              "        element.innerHTML = '';\n",
              "        dataTable['output_type'] = 'display_data';\n",
              "        await google.colab.output.renderOutput(dataTable, element);\n",
              "        const docLink = document.createElement('div');\n",
              "        docLink.innerHTML = docLinkHtml;\n",
              "        element.appendChild(docLink);\n",
              "      }\n",
              "    </script>\n",
              "  </div>\n",
              "\n",
              "\n",
              "<div id=\"df-c576ef9c-bd1d-40dd-b3bc-6c623d1425fa\">\n",
              "  <button class=\"colab-df-quickchart\" onclick=\"quickchart('df-c576ef9c-bd1d-40dd-b3bc-6c623d1425fa')\"\n",
              "            title=\"Suggest charts\"\n",
              "            style=\"display:none;\">\n",
              "\n",
              "<svg xmlns=\"http://www.w3.org/2000/svg\" height=\"24px\"viewBox=\"0 0 24 24\"\n",
              "     width=\"24px\">\n",
              "    <g>\n",
              "        <path d=\"M19 3H5c-1.1 0-2 .9-2 2v14c0 1.1.9 2 2 2h14c1.1 0 2-.9 2-2V5c0-1.1-.9-2-2-2zM9 17H7v-7h2v7zm4 0h-2V7h2v10zm4 0h-2v-4h2v4z\"/>\n",
              "    </g>\n",
              "</svg>\n",
              "  </button>\n",
              "\n",
              "<style>\n",
              "  .colab-df-quickchart {\n",
              "      --bg-color: #E8F0FE;\n",
              "      --fill-color: #1967D2;\n",
              "      --hover-bg-color: #E2EBFA;\n",
              "      --hover-fill-color: #174EA6;\n",
              "      --disabled-fill-color: #AAA;\n",
              "      --disabled-bg-color: #DDD;\n",
              "  }\n",
              "\n",
              "  [theme=dark] .colab-df-quickchart {\n",
              "      --bg-color: #3B4455;\n",
              "      --fill-color: #D2E3FC;\n",
              "      --hover-bg-color: #434B5C;\n",
              "      --hover-fill-color: #FFFFFF;\n",
              "      --disabled-bg-color: #3B4455;\n",
              "      --disabled-fill-color: #666;\n",
              "  }\n",
              "\n",
              "  .colab-df-quickchart {\n",
              "    background-color: var(--bg-color);\n",
              "    border: none;\n",
              "    border-radius: 50%;\n",
              "    cursor: pointer;\n",
              "    display: none;\n",
              "    fill: var(--fill-color);\n",
              "    height: 32px;\n",
              "    padding: 0;\n",
              "    width: 32px;\n",
              "  }\n",
              "\n",
              "  .colab-df-quickchart:hover {\n",
              "    background-color: var(--hover-bg-color);\n",
              "    box-shadow: 0 1px 2px rgba(60, 64, 67, 0.3), 0 1px 3px 1px rgba(60, 64, 67, 0.15);\n",
              "    fill: var(--button-hover-fill-color);\n",
              "  }\n",
              "\n",
              "  .colab-df-quickchart-complete:disabled,\n",
              "  .colab-df-quickchart-complete:disabled:hover {\n",
              "    background-color: var(--disabled-bg-color);\n",
              "    fill: var(--disabled-fill-color);\n",
              "    box-shadow: none;\n",
              "  }\n",
              "\n",
              "  .colab-df-spinner {\n",
              "    border: 2px solid var(--fill-color);\n",
              "    border-color: transparent;\n",
              "    border-bottom-color: var(--fill-color);\n",
              "    animation:\n",
              "      spin 1s steps(1) infinite;\n",
              "  }\n",
              "\n",
              "  @keyframes spin {\n",
              "    0% {\n",
              "      border-color: transparent;\n",
              "      border-bottom-color: var(--fill-color);\n",
              "      border-left-color: var(--fill-color);\n",
              "    }\n",
              "    20% {\n",
              "      border-color: transparent;\n",
              "      border-left-color: var(--fill-color);\n",
              "      border-top-color: var(--fill-color);\n",
              "    }\n",
              "    30% {\n",
              "      border-color: transparent;\n",
              "      border-left-color: var(--fill-color);\n",
              "      border-top-color: var(--fill-color);\n",
              "      border-right-color: var(--fill-color);\n",
              "    }\n",
              "    40% {\n",
              "      border-color: transparent;\n",
              "      border-right-color: var(--fill-color);\n",
              "      border-top-color: var(--fill-color);\n",
              "    }\n",
              "    60% {\n",
              "      border-color: transparent;\n",
              "      border-right-color: var(--fill-color);\n",
              "    }\n",
              "    80% {\n",
              "      border-color: transparent;\n",
              "      border-right-color: var(--fill-color);\n",
              "      border-bottom-color: var(--fill-color);\n",
              "    }\n",
              "    90% {\n",
              "      border-color: transparent;\n",
              "      border-bottom-color: var(--fill-color);\n",
              "    }\n",
              "  }\n",
              "</style>\n",
              "\n",
              "  <script>\n",
              "    async function quickchart(key) {\n",
              "      const quickchartButtonEl =\n",
              "        document.querySelector('#' + key + ' button');\n",
              "      quickchartButtonEl.disabled = true;  // To prevent multiple clicks.\n",
              "      quickchartButtonEl.classList.add('colab-df-spinner');\n",
              "      try {\n",
              "        const charts = await google.colab.kernel.invokeFunction(\n",
              "            'suggestCharts', [key], {});\n",
              "      } catch (error) {\n",
              "        console.error('Error during call to suggestCharts:', error);\n",
              "      }\n",
              "      quickchartButtonEl.classList.remove('colab-df-spinner');\n",
              "      quickchartButtonEl.classList.add('colab-df-quickchart-complete');\n",
              "    }\n",
              "    (() => {\n",
              "      let quickchartButtonEl =\n",
              "        document.querySelector('#df-c576ef9c-bd1d-40dd-b3bc-6c623d1425fa button');\n",
              "      quickchartButtonEl.style.display =\n",
              "        google.colab.kernel.accessAllowed ? 'block' : 'none';\n",
              "    })();\n",
              "  </script>\n",
              "</div>\n",
              "\n",
              "    </div>\n",
              "  </div>\n"
            ],
            "application/vnd.google.colaboratory.intrinsic+json": {
              "type": "dataframe",
              "variable_name": "dataframe",
              "summary": "{\n  \"name\": \"dataframe\",\n  \"rows\": 768,\n  \"fields\": [\n    {\n      \"column\": \"Pregnancies\",\n      \"properties\": {\n        \"dtype\": \"number\",\n        \"std\": 3,\n        \"min\": 0,\n        \"max\": 17,\n        \"num_unique_values\": 17,\n        \"samples\": [\n          6,\n          1,\n          3\n        ],\n        \"semantic_type\": \"\",\n        \"description\": \"\"\n      }\n    },\n    {\n      \"column\": \"Glucose\",\n      \"properties\": {\n        \"dtype\": \"number\",\n        \"std\": 31,\n        \"min\": 0,\n        \"max\": 199,\n        \"num_unique_values\": 136,\n        \"samples\": [\n          151,\n          101,\n          112\n        ],\n        \"semantic_type\": \"\",\n        \"description\": \"\"\n      }\n    },\n    {\n      \"column\": \"BloodPressure\",\n      \"properties\": {\n        \"dtype\": \"number\",\n        \"std\": 19,\n        \"min\": 0,\n        \"max\": 122,\n        \"num_unique_values\": 47,\n        \"samples\": [\n          86,\n          46,\n          85\n        ],\n        \"semantic_type\": \"\",\n        \"description\": \"\"\n      }\n    },\n    {\n      \"column\": \"SkinThickness\",\n      \"properties\": {\n        \"dtype\": \"number\",\n        \"std\": 15,\n        \"min\": 0,\n        \"max\": 99,\n        \"num_unique_values\": 51,\n        \"samples\": [\n          7,\n          12,\n          48\n        ],\n        \"semantic_type\": \"\",\n        \"description\": \"\"\n      }\n    },\n    {\n      \"column\": \"Insulin\",\n      \"properties\": {\n        \"dtype\": \"number\",\n        \"std\": 115,\n        \"min\": 0,\n        \"max\": 846,\n        \"num_unique_values\": 186,\n        \"samples\": [\n          52,\n          41,\n          183\n        ],\n        \"semantic_type\": \"\",\n        \"description\": \"\"\n      }\n    },\n    {\n      \"column\": \"BMI\",\n      \"properties\": {\n        \"dtype\": \"number\",\n        \"std\": 7.8841603203754405,\n        \"min\": 0.0,\n        \"max\": 67.1,\n        \"num_unique_values\": 248,\n        \"samples\": [\n          19.9,\n          31.0,\n          38.1\n        ],\n        \"semantic_type\": \"\",\n        \"description\": \"\"\n      }\n    },\n    {\n      \"column\": \"DiabetesPedigreeFunction\",\n      \"properties\": {\n        \"dtype\": \"number\",\n        \"std\": 0.33132859501277484,\n        \"min\": 0.078,\n        \"max\": 2.42,\n        \"num_unique_values\": 517,\n        \"samples\": [\n          1.731,\n          0.426,\n          0.138\n        ],\n        \"semantic_type\": \"\",\n        \"description\": \"\"\n      }\n    },\n    {\n      \"column\": \"Age\",\n      \"properties\": {\n        \"dtype\": \"number\",\n        \"std\": 11,\n        \"min\": 21,\n        \"max\": 81,\n        \"num_unique_values\": 52,\n        \"samples\": [\n          60,\n          47,\n          72\n        ],\n        \"semantic_type\": \"\",\n        \"description\": \"\"\n      }\n    },\n    {\n      \"column\": \"Outcome\",\n      \"properties\": {\n        \"dtype\": \"number\",\n        \"std\": 0,\n        \"min\": 0,\n        \"max\": 1,\n        \"num_unique_values\": 2,\n        \"samples\": [\n          0,\n          1\n        ],\n        \"semantic_type\": \"\",\n        \"description\": \"\"\n      }\n    }\n  ]\n}"
            }
          },
          "metadata": {},
          "execution_count": 67
        }
      ]
    },
    {
      "cell_type": "markdown",
      "source": [
        "#The Exploratory data analysis of the data:\n"
      ],
      "metadata": {
        "id": "_7o5D3wUvnvT"
      }
    },
    {
      "cell_type": "code",
      "source": [
        "# checking datatypes:\n",
        "\n",
        "datatype_check = dataframe.dtypes\n",
        "print(datatype_check)"
      ],
      "metadata": {
        "colab": {
          "base_uri": "https://localhost:8080/"
        },
        "id": "WdMpWS9RvnfN",
        "outputId": "e3d60e19-914e-4e6f-e683-2dea57ccdaaa"
      },
      "execution_count": 68,
      "outputs": [
        {
          "output_type": "stream",
          "name": "stdout",
          "text": [
            "Pregnancies                   int64\n",
            "Glucose                       int64\n",
            "BloodPressure                 int64\n",
            "SkinThickness                 int64\n",
            "Insulin                       int64\n",
            "BMI                         float64\n",
            "DiabetesPedigreeFunction    float64\n",
            "Age                           int64\n",
            "Outcome                       int64\n",
            "dtype: object\n"
          ]
        }
      ]
    },
    {
      "cell_type": "code",
      "source": [
        "# checking the missing values\n",
        "\n",
        "missing_values_count = dataframe.isnull().sum()\n",
        "print(missing_values_count)"
      ],
      "metadata": {
        "colab": {
          "base_uri": "https://localhost:8080/"
        },
        "id": "A74JYhZ7v71b",
        "outputId": "db3c861f-97da-41d5-8030-ee5f8b601ec2"
      },
      "execution_count": 69,
      "outputs": [
        {
          "output_type": "stream",
          "name": "stdout",
          "text": [
            "Pregnancies                 0\n",
            "Glucose                     0\n",
            "BloodPressure               0\n",
            "SkinThickness               0\n",
            "Insulin                     0\n",
            "BMI                         0\n",
            "DiabetesPedigreeFunction    0\n",
            "Age                         0\n",
            "Outcome                     0\n",
            "dtype: int64\n"
          ]
        }
      ]
    },
    {
      "cell_type": "code",
      "source": [
        "# checking summary statistics\n",
        "\n",
        "summary_statistics = dataframe.describe()\n",
        "print(summary_statistics)"
      ],
      "metadata": {
        "colab": {
          "base_uri": "https://localhost:8080/"
        },
        "id": "xxu0flDkuN-Y",
        "outputId": "076a9fe8-7a69-4bed-db79-24aad8d03ef8"
      },
      "execution_count": 70,
      "outputs": [
        {
          "output_type": "stream",
          "name": "stdout",
          "text": [
            "       Pregnancies     Glucose  BloodPressure  SkinThickness     Insulin  \\\n",
            "count   768.000000  768.000000     768.000000     768.000000  768.000000   \n",
            "mean      3.845052  120.894531      69.105469      20.536458   79.799479   \n",
            "std       3.369578   31.972618      19.355807      15.952218  115.244002   \n",
            "min       0.000000    0.000000       0.000000       0.000000    0.000000   \n",
            "25%       1.000000   99.000000      62.000000       0.000000    0.000000   \n",
            "50%       3.000000  117.000000      72.000000      23.000000   30.500000   \n",
            "75%       6.000000  140.250000      80.000000      32.000000  127.250000   \n",
            "max      17.000000  199.000000     122.000000      99.000000  846.000000   \n",
            "\n",
            "              BMI  DiabetesPedigreeFunction         Age     Outcome  \n",
            "count  768.000000                768.000000  768.000000  768.000000  \n",
            "mean    31.992578                  0.471876   33.240885    0.348958  \n",
            "std      7.884160                  0.331329   11.760232    0.476951  \n",
            "min      0.000000                  0.078000   21.000000    0.000000  \n",
            "25%     27.300000                  0.243750   24.000000    0.000000  \n",
            "50%     32.000000                  0.372500   29.000000    0.000000  \n",
            "75%     36.600000                  0.626250   41.000000    1.000000  \n",
            "max     67.100000                  2.420000   81.000000    1.000000  \n"
          ]
        }
      ]
    },
    {
      "cell_type": "markdown",
      "source": [
        "##2. Handle Missing Data:\n",
        "• Handle any missing values appropriately, either by dropping or imputing them based on the data."
      ],
      "metadata": {
        "id": "EH3-15B4wFBr"
      }
    },
    {
      "cell_type": "code",
      "source": [
        "# using mean fill to fill any null values(no null values in our case)\n",
        "\n",
        "null_values_fill = dataframe.fillna(dataframe.mean())\n",
        "print(null_values_fill)"
      ],
      "metadata": {
        "colab": {
          "base_uri": "https://localhost:8080/"
        },
        "id": "vA7O4yIVwX43",
        "outputId": "503a1290-222b-40b3-cd8c-987c75044b8b"
      },
      "execution_count": 71,
      "outputs": [
        {
          "output_type": "stream",
          "name": "stdout",
          "text": [
            "     Pregnancies  Glucose  BloodPressure  SkinThickness  Insulin   BMI  \\\n",
            "0              6      148             72             35        0  33.6   \n",
            "1              1       85             66             29        0  26.6   \n",
            "2              8      183             64              0        0  23.3   \n",
            "3              1       89             66             23       94  28.1   \n",
            "4              0      137             40             35      168  43.1   \n",
            "..           ...      ...            ...            ...      ...   ...   \n",
            "763           10      101             76             48      180  32.9   \n",
            "764            2      122             70             27        0  36.8   \n",
            "765            5      121             72             23      112  26.2   \n",
            "766            1      126             60              0        0  30.1   \n",
            "767            1       93             70             31        0  30.4   \n",
            "\n",
            "     DiabetesPedigreeFunction  Age  Outcome  \n",
            "0                       0.627   50        1  \n",
            "1                       0.351   31        0  \n",
            "2                       0.672   32        1  \n",
            "3                       0.167   21        0  \n",
            "4                       2.288   33        1  \n",
            "..                        ...  ...      ...  \n",
            "763                     0.171   63        0  \n",
            "764                     0.340   27        0  \n",
            "765                     0.245   30        0  \n",
            "766                     0.349   47        1  \n",
            "767                     0.315   23        0  \n",
            "\n",
            "[768 rows x 9 columns]\n"
          ]
        }
      ]
    },
    {
      "cell_type": "markdown",
      "source": [
        "##Feature Engineering:\n",
        "• Separate the feature matrix (X) and target variable (y).\n",
        "\n",
        "• Perform a train - test split from scratch using a 70% − 30% ratio."
      ],
      "metadata": {
        "id": "W1uE6Nm9xFo1"
      }
    },
    {
      "cell_type": "code",
      "source": [
        "# seperating the features(x) and target(y)\n",
        "x_features = dataframe.drop(\"Outcome\", axis=1)\n",
        "y_target = dataframe[\"Outcome\"]\n",
        "\n",
        "# creating matrix\n",
        "x_matrix = np.array(x_features.values)\n",
        "y_matrix = np.array(y_target.values)\n",
        "\n",
        "print(\"Matrix of x variables: \\n\", x_matrix)\n",
        "print(\"Matrix of y targets: \\n\", y_matrix)"
      ],
      "metadata": {
        "colab": {
          "base_uri": "https://localhost:8080/"
        },
        "id": "yYzbZQQZx-M5",
        "outputId": "ce6f76bf-4cbf-4dca-b90e-f0f281aad84b"
      },
      "execution_count": 72,
      "outputs": [
        {
          "output_type": "stream",
          "name": "stdout",
          "text": [
            "Matrix of x variables: \n",
            " [[  6.    148.     72.    ...  33.6     0.627  50.   ]\n",
            " [  1.     85.     66.    ...  26.6     0.351  31.   ]\n",
            " [  8.    183.     64.    ...  23.3     0.672  32.   ]\n",
            " ...\n",
            " [  5.    121.     72.    ...  26.2     0.245  30.   ]\n",
            " [  1.    126.     60.    ...  30.1     0.349  47.   ]\n",
            " [  1.     93.     70.    ...  30.4     0.315  23.   ]]\n",
            "Matrix of y targets: \n",
            " [1 0 1 0 1 0 1 0 1 1 0 1 0 1 1 1 1 1 0 1 0 0 1 1 1 1 1 0 0 0 0 1 0 0 0 0 0\n",
            " 1 1 1 0 0 0 1 0 1 0 0 1 0 0 0 0 1 0 0 1 0 0 0 0 1 0 0 1 0 1 0 0 0 1 0 1 0\n",
            " 0 0 0 0 1 0 0 0 0 0 1 0 0 0 1 0 0 0 0 1 0 0 0 0 0 1 1 0 0 0 0 0 0 0 0 1 1\n",
            " 1 0 0 1 1 1 0 0 0 1 0 0 0 1 1 0 0 1 1 1 1 1 0 0 0 0 0 0 0 0 0 0 1 0 0 0 0\n",
            " 0 0 0 0 1 0 1 1 0 0 0 1 0 0 0 0 1 1 0 0 0 0 1 1 0 0 0 1 0 1 0 1 0 0 0 0 0\n",
            " 1 1 1 1 1 0 0 1 1 0 1 0 1 1 1 0 0 0 0 0 0 1 1 0 1 0 0 0 1 1 1 1 0 1 1 1 1\n",
            " 0 0 0 0 0 1 0 0 1 1 0 0 0 1 1 1 1 0 0 0 1 1 0 1 0 0 0 0 0 0 0 0 1 1 0 0 0\n",
            " 1 0 1 0 0 1 0 1 0 0 1 1 0 0 0 0 0 1 0 0 0 1 0 0 1 1 0 0 1 0 0 0 1 1 1 0 0\n",
            " 1 0 1 0 1 1 0 1 0 0 1 0 1 1 0 0 1 0 1 0 0 1 0 1 0 1 1 1 0 0 1 0 1 0 0 0 1\n",
            " 0 0 0 0 1 1 1 0 0 0 0 0 0 0 0 0 1 0 0 0 0 0 1 1 1 0 1 1 0 0 1 0 0 1 0 0 1\n",
            " 1 0 0 0 0 1 0 0 1 0 0 0 0 0 0 0 1 1 1 0 0 1 0 0 1 0 0 1 0 1 1 0 1 0 1 0 1\n",
            " 0 1 1 0 0 0 0 1 1 0 1 0 1 0 0 0 0 1 1 0 1 0 1 0 0 0 0 0 1 0 0 0 0 1 0 0 1\n",
            " 1 1 0 0 1 0 0 1 0 0 0 1 0 0 1 0 0 0 0 0 0 0 0 0 1 0 0 0 0 0 0 0 1 0 0 0 1\n",
            " 0 0 0 1 1 0 0 0 0 0 0 0 1 0 0 0 0 1 0 0 0 1 0 0 0 1 0 0 0 1 0 0 0 0 1 1 0\n",
            " 0 0 0 0 0 1 0 0 0 0 0 0 0 0 0 0 0 1 0 0 0 1 1 1 1 0 0 1 1 0 0 0 0 0 0 0 0\n",
            " 0 0 0 0 0 1 1 0 0 0 0 0 0 0 1 0 0 0 0 0 0 0 1 0 1 1 0 0 0 1 0 1 0 1 0 1 0\n",
            " 1 0 0 1 0 0 1 0 0 0 0 1 1 0 1 0 0 0 0 1 1 0 1 0 0 0 1 1 0 0 0 0 0 0 0 0 0\n",
            " 0 1 0 0 0 0 1 0 0 1 0 0 0 1 0 0 0 1 1 1 0 0 0 0 0 0 1 0 0 0 1 0 1 1 1 1 0\n",
            " 1 1 0 0 0 0 0 0 0 1 1 0 1 0 0 1 0 1 0 0 0 0 0 1 0 1 0 1 0 1 1 0 0 0 0 1 1\n",
            " 0 0 0 1 0 1 1 0 0 1 0 0 1 1 0 0 1 0 0 1 0 0 0 0 0 0 0 1 1 1 0 0 0 0 0 0 1\n",
            " 1 0 0 1 0 0 1 0 1 1 1 0 0 1 1 1 0 1 0 1 0 1 0 0 0 0 1 0]\n"
          ]
        }
      ]
    },
    {
      "cell_type": "code",
      "source": [
        "# train test split\n",
        "\n",
        "def test_train_split(x, y, test_size=0.3, random_seed=42):\n",
        "  np.random.seed(random_seed) #takes random using random seed\n",
        "\n",
        "  indices = np.arange(x.shape[0]) #arranges the x input\n",
        "  np.random.shuffle(indices) #shuffles the x input for random selection\n",
        "\n",
        "  test_split_size = int(len(x) * test_size) #finds the size for test data\n",
        "\n",
        "  test_indices = indices[:test_split_size] #takes 0-test_split_size for test\n",
        "  train_indices = indices[test_split_size:] # takes test_split_size to n for train\n",
        "\n",
        "  x_train, x_test = x[train_indices], x[test_indices] #splits the data using the indices and stores then\n",
        "  y_train, y_test = y[train_indices], y[test_indices]\n",
        "\n",
        "  return x_train, x_test, y_train, y_test\n",
        "\n",
        "# calling the function\n",
        "x_train, x_test, y_train, y_test = test_train_split(x_matrix, y_matrix)\n"
      ],
      "metadata": {
        "id": "uS_XH0z3y8fS"
      },
      "execution_count": 73,
      "outputs": []
    },
    {
      "cell_type": "code",
      "source": [
        "print(\"The matrix of training set of x is: \\n\", x_train)\n"
      ],
      "metadata": {
        "colab": {
          "base_uri": "https://localhost:8080/"
        },
        "id": "sx0P-pP53Vgq",
        "outputId": "cad602ea-76e6-431f-a425-12c3d76ab7cf"
      },
      "execution_count": 74,
      "outputs": [
        {
          "output_type": "stream",
          "name": "stdout",
          "text": [
            "The matrix of training set of x is: \n",
            " [[  5.     77.     82.    ...  35.8     0.156  35.   ]\n",
            " [  1.     95.     60.    ...  23.9     0.26   22.   ]\n",
            " [  5.    105.     72.    ...  36.9     0.159  28.   ]\n",
            " ...\n",
            " [ 10.    101.     86.    ...  45.6     1.136  38.   ]\n",
            " [  0.    141.      0.    ...  42.4     0.205  29.   ]\n",
            " [  0.    125.     96.    ...  22.5     0.262  21.   ]]\n"
          ]
        }
      ]
    },
    {
      "cell_type": "code",
      "source": [
        "print(\"The matrix of testing set of x is: \\n\", x_test)\n"
      ],
      "metadata": {
        "colab": {
          "base_uri": "https://localhost:8080/"
        },
        "id": "uSNAasPW37QB",
        "outputId": "e9de2463-ac0e-4308-e4fa-c4eaefa2b82c"
      },
      "execution_count": 75,
      "outputs": [
        {
          "output_type": "stream",
          "name": "stdout",
          "text": [
            "The matrix of testing set of x is: \n",
            " [[6.00e+00 9.80e+01 5.80e+01 ... 3.40e+01 4.30e-01 4.30e+01]\n",
            " [2.00e+00 1.12e+02 7.50e+01 ... 3.57e+01 1.48e-01 2.10e+01]\n",
            " [2.00e+00 1.08e+02 6.40e+01 ... 3.08e+01 1.58e-01 2.10e+01]\n",
            " ...\n",
            " [4.00e+00 1.09e+02 6.40e+01 ... 3.48e+01 9.05e-01 2.60e+01]\n",
            " [0.00e+00 1.27e+02 8.00e+01 ... 3.63e+01 8.04e-01 2.30e+01]\n",
            " [6.00e+00 1.05e+02 7.00e+01 ... 3.08e+01 1.22e-01 3.70e+01]]\n"
          ]
        }
      ]
    },
    {
      "cell_type": "code",
      "source": [
        "print(\"The matrix of training set of y is: \\n\", y_train)\n"
      ],
      "metadata": {
        "colab": {
          "base_uri": "https://localhost:8080/"
        },
        "id": "HTTvOqm-3_Jk",
        "outputId": "163e7611-6395-4497-f424-566f02d771b4"
      },
      "execution_count": 76,
      "outputs": [
        {
          "output_type": "stream",
          "name": "stdout",
          "text": [
            "The matrix of training set of y is: \n",
            " [0 0 0 1 0 0 0 0 1 1 0 0 1 0 0 0 0 0 0 0 1 0 1 0 0 0 0 1 0 0 0 1 0 0 0 0 0\n",
            " 0 0 0 0 0 1 1 0 0 0 1 0 0 0 1 1 1 0 0 1 1 0 0 0 0 1 0 1 0 0 1 1 0 0 1 1 0\n",
            " 0 0 0 0 0 1 0 1 1 0 0 0 1 0 0 0 1 1 1 0 1 0 0 0 0 0 0 0 0 1 1 0 1 1 0 0 1\n",
            " 0 0 1 1 1 0 0 0 0 0 1 0 1 0 0 0 0 0 0 0 1 1 0 0 0 0 0 0 0 1 0 1 1 1 0 0 0\n",
            " 0 0 1 1 1 1 0 0 1 0 0 1 1 0 1 1 0 1 0 0 0 1 0 1 0 1 0 0 0 1 1 0 1 0 0 1 0\n",
            " 1 0 0 1 0 0 1 0 0 1 0 1 1 0 0 0 0 1 1 0 1 0 0 1 0 1 0 1 0 0 0 0 1 1 1 1 1\n",
            " 0 0 0 0 1 1 0 0 0 1 0 1 0 0 0 0 0 1 1 0 1 1 1 1 1 0 0 0 0 0 1 1 0 1 1 0 0\n",
            " 1 0 1 0 0 0 0 0 0 1 0 1 0 0 0 1 0 1 1 1 0 0 0 0 0 0 0 0 0 0 0 1 0 0 0 1 0\n",
            " 1 0 0 1 0 1 0 0 0 1 0 0 1 0 0 0 0 1 0 0 0 0 0 1 0 0 0 0 0 0 0 0 1 1 0 0 0\n",
            " 1 0 0 1 0 1 0 1 1 0 0 0 0 0 1 1 1 1 0 0 0 1 1 1 1 0 1 0 0 0 0 0 0 0 0 0 0\n",
            " 0 0 1 0 0 0 0 0 0 0 0 0 1 0 0 0 0 0 1 0 0 0 1 0 1 1 0 0 1 1 0 0 1 0 0 0 0\n",
            " 0 0 1 1 0 1 0 0 1 1 0 1 1 0 0 1 1 0 0 0 0 0 1 1 0 1 0 0 1 1 1 0 0 0 1 1 0\n",
            " 0 1 1 0 0 0 0 1 1 0 1 0 0 0 1 0 1 0 0 0 0 1 0 0 0 0 0 1 0 0 0 0 1 0 1 0 1\n",
            " 0 0 0 1 0 0 1 0 0 1 1 1 1 0 1 0 0 0 1 0 0 1 1 0 0 1 0 0 0 0 0 1 0 0 0 0 0\n",
            " 1 1 1 1 1 0 0 1 0 1 0 0 1 0 0 0 0 1 1 0]\n"
          ]
        }
      ]
    },
    {
      "cell_type": "code",
      "source": [
        "print(\"The matrix of testing set of y is: \\n\", y_test)"
      ],
      "metadata": {
        "colab": {
          "base_uri": "https://localhost:8080/"
        },
        "id": "x25ITuDP4BMV",
        "outputId": "f8910973-53f3-4471-855a-3909a9d89370"
      },
      "execution_count": 77,
      "outputs": [
        {
          "output_type": "stream",
          "name": "stdout",
          "text": [
            "The matrix of testing set of y is: \n",
            " [0 0 0 0 0 0 0 0 0 0 1 0 1 0 0 1 0 0 1 1 0 0 0 0 0 1 0 0 1 0 1 1 1 1 0 1 1\n",
            " 1 0 1 0 0 0 1 0 1 1 0 0 0 0 1 1 1 0 0 0 0 0 1 1 0 0 1 0 0 0 1 0 1 0 0 0 1\n",
            " 0 0 0 0 0 0 1 1 0 0 0 1 1 1 0 0 0 0 0 1 0 0 0 0 1 0 0 0 1 0 1 0 0 1 1 1 0\n",
            " 0 0 1 0 0 1 0 0 0 0 0 1 0 0 0 1 1 1 0 1 1 0 1 1 0 1 1 1 0 0 0 0 0 0 0 1 0\n",
            " 0 1 0 0 1 0 0 1 0 0 1 0 1 1 0 0 0 1 0 0 0 1 0 1 1 0 0 0 0 0 1 1 0 0 0 1 1\n",
            " 0 0 0 1 0 1 0 1 0 0 0 0 0 1 1 0 0 1 0 0 0 0 0 1 1 0 0 0 0 1 0 0 1 0 0 1 0\n",
            " 0 0 0 0 1 1 0 0]\n"
          ]
        }
      ]
    },
    {
      "cell_type": "markdown",
      "source": [
        "##4. Implement KNN:\n",
        "• Build the KNN algorithm from scratch (no libraries like sickit-learn for KNN).\n",
        "\n",
        "• Compute distances using Euclidean distance.\n",
        "\n",
        "• Write functions for:\n",
        "\n",
        "– Predicting the class for a single query.\n",
        "\n",
        "– Predicting classes for all test samples.\n",
        "\n",
        "• Evaluate the performance using accuracy.\n"
      ],
      "metadata": {
        "id": "Mfz1UBLOxT8P"
      }
    },
    {
      "cell_type": "code",
      "source": [
        "# creating function to calculate the euclidean distance between two points\n",
        "\n",
        "def euclidean_distance(x1, x2):\n",
        "  if x1.shape != x2.shape:\n",
        "    raise ValueError(\"Input arrays must have the same shape\")\n",
        "\n",
        "  distance = np.sqrt(np.sum((x1 - x2) ** 2))\n",
        "\n",
        "  return distance"
      ],
      "metadata": {
        "id": "77N9I14q4DyW"
      },
      "execution_count": 78,
      "outputs": []
    },
    {
      "cell_type": "code",
      "source": [
        "# creating function to predict the class for a single query\n",
        "\n",
        "def predict_class_single(query, x_train, y_train, k = 3):\n",
        "  distances = [euclidean_distance(query, x) for x in x_train]\n",
        "\n",
        "  k_indices = np.argsort(distances)[:k]\n",
        "  k_nearest_labels = y_train[k_indices]\n",
        "\n",
        "  prediction = np.bincount(k_nearest_labels).argmax()\n",
        "  return prediction"
      ],
      "metadata": {
        "id": "bOjL6Fwsr4OT"
      },
      "execution_count": 79,
      "outputs": []
    },
    {
      "cell_type": "code",
      "source": [
        "# creating function to predict the class for all test samples\n",
        "\n",
        "def predict_class_all(x_test, x_train, y_train, k = 3):\n",
        "  predictions = [predict_class_single(x, x_train, y_train, k) for x in x_test]\n",
        "\n",
        "  return np.array(predictions)"
      ],
      "metadata": {
        "id": "Bg72OUjUt5pr"
      },
      "execution_count": 80,
      "outputs": []
    },
    {
      "cell_type": "code",
      "source": [
        "# creating function to calculate the accuracy of the KNN predictions\n",
        "\n",
        "def accuracy_knn(y_true, y_pred):\n",
        "  correct_predictions =  np.sum(y_true == y_pred)\n",
        "  total_predictions = len(y_true)\n",
        "\n",
        "  accuracy = (correct_predictions / total_predictions) * 100\n",
        "\n",
        "  return accuracy"
      ],
      "metadata": {
        "id": "_sQzIz7HwEK2"
      },
      "execution_count": 85,
      "outputs": []
    },
    {
      "cell_type": "code",
      "source": [
        "# calculating the acuracy\n",
        "try:\n",
        "  # predictions using predict_class_all() function\n",
        "  predictions = predict_class_all(x_test, x_train, y_train, k = 3)\n",
        "\n",
        "  # now calculating the accuracy\n",
        "  accuracy = accuracy_knn(y_test, predictions)\n",
        "  # printing the value\n",
        "  print(f\"The accuracy of the system is: {accuracy: .2f}%\")\n",
        "except Exception as e:\n",
        "  print(\"Error: \", e)"
      ],
      "metadata": {
        "colab": {
          "base_uri": "https://localhost:8080/"
        },
        "id": "uURP70my3lfA",
        "outputId": "60adf9b4-4373-4770-e422-97fa3704aa79"
      },
      "execution_count": 89,
      "outputs": [
        {
          "output_type": "stream",
          "name": "stdout",
          "text": [
            "The accuracy of the system is:  67.39%\n"
          ]
        }
      ]
    },
    {
      "cell_type": "markdown",
      "source": [
        "#Problem- 2- Experimentation:\n",
        "## 1. Repeat the Classification Task:\n",
        " • Scale the Feature matrix X.\n",
        "\n",
        " • Use the scaled data for training and testing the kNN Classifier.\n",
        " • Record the results.\n",
        "## 2. Comparative Analysis: Compare the Results\n",
        "• Compare the accuracy and performance of the kNN model on the original dataset from problem 1\n",
        " versus the scaled dataset.\n",
        "\n",
        " • Discuss:– How scaling impacted the KNN performance.– The reason for any observed changes in accuracy"
      ],
      "metadata": {
        "id": "DnM8mjs15VDS"
      }
    },
    {
      "cell_type": "code",
      "source": [
        "# scaling the feature matrix x using normalization\n",
        "\n",
        "# finding min and max of the training matrix\n",
        "x_min_train = x_train.min(axis = 0)\n",
        "x_max_train = x_train.max(axis = 0)\n",
        "\n",
        "# finding min and max of the testing matrix\n",
        "x_min_test = x_test.min(axis = 0)\n",
        "x_max_test = x_test.max(axis = 0)\n",
        "\n",
        "# scaling the data\n",
        "x_train_scaled = (x_train - x_min_train) / (x_max_train - x_min_train)\n",
        "x_test_scaled = (x_test - x_min_test) / (x_max_test - x_min_test)\n",
        "\n",
        "# printing the scaled data\n",
        "\n",
        "print(\"The scaled data of train matrix is: \", x_train_scaled)\n",
        "print(\"The scaled data of test matrix is: \", x_test_scaled)\n",
        "\n"
      ],
      "metadata": {
        "colab": {
          "base_uri": "https://localhost:8080/"
        },
        "id": "hU9Rp5SJAbi2",
        "outputId": "9d74317d-2be9-4563-adcc-9f8a4d42c582"
      },
      "execution_count": 83,
      "outputs": [
        {
          "output_type": "stream",
          "name": "stdout",
          "text": [
            "The scaled data of train matrix is:  [[0.29411765 0.38693467 0.67213115 ... 0.53353204 0.03330487 0.23333333]\n",
            " [0.05882353 0.47738693 0.49180328 ... 0.3561848  0.07771136 0.01666667]\n",
            " [0.29411765 0.52763819 0.59016393 ... 0.54992548 0.03458582 0.11666667]\n",
            " ...\n",
            " [0.58823529 0.50753769 0.70491803 ... 0.67958271 0.45175064 0.28333333]\n",
            " [0.         0.70854271 0.         ... 0.6318927  0.05422716 0.13333333]\n",
            " [0.         0.6281407  0.78688525 ... 0.33532042 0.07856533 0.        ]]\n",
            "The scaled data of test matrix is:  [[0.46153846 0.27205882 0.50877193 ... 0.59336824 0.22619048 0.47826087]\n",
            " [0.15384615 0.375      0.65789474 ... 0.62303665 0.03968254 0.        ]\n",
            " [0.15384615 0.34558824 0.56140351 ... 0.53752182 0.0462963  0.        ]\n",
            " ...\n",
            " [0.30769231 0.35294118 0.56140351 ... 0.60732984 0.54034392 0.10869565]\n",
            " [0.         0.48529412 0.70175439 ... 0.63350785 0.47354497 0.04347826]\n",
            " [0.46153846 0.32352941 0.61403509 ... 0.53752182 0.02248677 0.34782609]]\n"
          ]
        }
      ]
    },
    {
      "cell_type": "code",
      "source": [
        "# calculating the acuracy of scaled data\n",
        "try:\n",
        "  # predictions using predict_class_all() function\n",
        "  predictions = predict_class_all(x_test_scaled, x_train_scaled, y_train, k = 3)\n",
        "\n",
        "  # now calculating the accuracy\n",
        "  accuracy = accuracy_knn(y_test, predictions)\n",
        "  # printing the value\n",
        "  print(f\"The accuracy of the system is: {accuracy: .2f}%\")\n",
        "except Exception as e:\n",
        "  print(\"Error: \", e)"
      ],
      "metadata": {
        "colab": {
          "base_uri": "https://localhost:8080/"
        },
        "id": "BDlRMkGDBhgk",
        "outputId": "5a8c53c5-4f63-42b1-92c1-991dc91526f0"
      },
      "execution_count": 88,
      "outputs": [
        {
          "output_type": "stream",
          "name": "stdout",
          "text": [
            "The accuracy of the system is:  70.87%\n"
          ]
        }
      ]
    },
    {
      "cell_type": "markdown",
      "source": [
        " Scaling the data can be useful for models that use distance or gradient.\n",
        "\n",
        " After scaling the data, all the features in the input is brought to a same range which makes the magnitude more stable. This helps in distance calculation making them more balanced. This leads to a better overall accuracy of the model."
      ],
      "metadata": {
        "id": "5hc7cRY7Ew3E"
      }
    },
    {
      "cell_type": "markdown",
      "source": [
        "# Problem- 3- Experimentation with k:\n",
        "##1. Vary the number of neighbors- k:\n",
        " • Run the KNN model on both the original and scaled datasets for a range of:\n",
        " k= 1,2,3,...15\n",
        "\n",
        " • For each k, record:– Accuracy.– Time taken to make predictions.\n",
        "## 2. Visualize the Results:\n",
        " • Plot the following graphs:– k vs. Accuracy for original and scaled datasets.– k vs. Time Taken for original and scaled datasets.\n",
        "## 3. Analyze and Discuss:\n",
        " • Discuss how the choice of k affects the accuracy and computational cost.\n",
        "\n",
        " • Identify the optimal k based on your analysis."
      ],
      "metadata": {
        "id": "lLz9HJEiExVD"
      }
    },
    {
      "cell_type": "code",
      "source": [
        "# calculating the accuracy of the KNN model using k from 1 to 15\n",
        "# for original data\n",
        "original_accuracy_list = []\n",
        "try:\n",
        "  # predictions using predict_class_all() function\n",
        "  for i in range(1, 16):\n",
        "    predictions = predict_class_all(x_test, x_train, y_train, k = i)\n",
        "    # now calculating the accuracy\n",
        "    accuracy = accuracy_knn(y_test, predictions)\n",
        "    # printing the value\n",
        "    print(f\"The accuracy of the system for k = {i} is: {accuracy: .2f}%\")\n",
        "    original_accuracy_list.append(accuracy)\n",
        "except Exception as e:\n",
        "  print(\"Error: \", e)"
      ],
      "metadata": {
        "colab": {
          "base_uri": "https://localhost:8080/"
        },
        "id": "QoI4hzmVFFuY",
        "outputId": "69d06bb0-4666-4b73-a48e-d1e80131c275"
      },
      "execution_count": 103,
      "outputs": [
        {
          "output_type": "stream",
          "name": "stdout",
          "text": [
            "The accuracy of the system for k = 1 is:  68.70%\n",
            "The accuracy of the system for k = 2 is:  72.61%\n",
            "The accuracy of the system for k = 3 is:  67.39%\n",
            "The accuracy of the system for k = 4 is:  72.17%\n",
            "The accuracy of the system for k = 5 is:  68.70%\n",
            "The accuracy of the system for k = 6 is:  70.00%\n",
            "The accuracy of the system for k = 7 is:  69.13%\n",
            "The accuracy of the system for k = 8 is:  71.30%\n",
            "The accuracy of the system for k = 9 is:  70.00%\n",
            "The accuracy of the system for k = 10 is:  71.74%\n",
            "The accuracy of the system for k = 11 is:  73.04%\n",
            "The accuracy of the system for k = 12 is:  73.91%\n",
            "The accuracy of the system for k = 13 is:  74.35%\n",
            "The accuracy of the system for k = 14 is:  72.61%\n",
            "The accuracy of the system for k = 15 is:  73.91%\n"
          ]
        }
      ]
    },
    {
      "cell_type": "code",
      "source": [
        "# calculating the time taken to predict using k from 1 to 15\n",
        "# for original data\n",
        "original_time_taken_list = []\n",
        "try:\n",
        "  for i in range(1, 16):\n",
        "    time_taken = timeit(\"predict_class_all(x_test, x_train, y_train, k = i)\", globals=globals(), number = 1)\n",
        "    print(f\"The time taken to predict for k = {i} is: {time_taken} seconds\")\n",
        "    original_time_taken_list.append(time_taken)\n",
        "except Exception as e:\n",
        "  print(\"Error: \", e)\n"
      ],
      "metadata": {
        "colab": {
          "base_uri": "https://localhost:8080/"
        },
        "id": "YEcmmK9yFw6n",
        "outputId": "2962532f-79b1-49aa-a22a-0af4a4ec818f"
      },
      "execution_count": 104,
      "outputs": [
        {
          "output_type": "stream",
          "name": "stdout",
          "text": [
            "The time taken to predict for k = 1 is: 1.341513512000347 seconds\n",
            "The time taken to predict for k = 2 is: 1.4503038439997908 seconds\n",
            "The time taken to predict for k = 3 is: 1.4475920659997428 seconds\n",
            "The time taken to predict for k = 4 is: 1.018005083999924 seconds\n",
            "The time taken to predict for k = 5 is: 0.8168538789996092 seconds\n",
            "The time taken to predict for k = 6 is: 0.8277948159993684 seconds\n",
            "The time taken to predict for k = 7 is: 0.8377977019999889 seconds\n",
            "The time taken to predict for k = 8 is: 0.8427657749998616 seconds\n",
            "The time taken to predict for k = 9 is: 0.8494148159998076 seconds\n",
            "The time taken to predict for k = 10 is: 0.8289953800003786 seconds\n",
            "The time taken to predict for k = 11 is: 0.8529928520001704 seconds\n",
            "The time taken to predict for k = 12 is: 0.8362725569995746 seconds\n",
            "The time taken to predict for k = 13 is: 0.876655043000028 seconds\n",
            "The time taken to predict for k = 14 is: 0.8298039159999462 seconds\n",
            "The time taken to predict for k = 15 is: 0.8536840810002104 seconds\n"
          ]
        }
      ]
    },
    {
      "cell_type": "code",
      "source": [
        "# calculating the accuracy of the KNN model using k from 1 to 15\n",
        "# for scaled data\n",
        "scaled_accuracy_list = []\n",
        "try:\n",
        "  # predictions using predict_class_all() function\n",
        "  for i in range(1, 16):\n",
        "    predictions = predict_class_all(x_test_scaled, x_train_scaled, y_train, k = i)\n",
        "    # now calculating the accuracy\n",
        "    accuracy = accuracy_knn(y_test, predictions)\n",
        "    # printing the value\n",
        "    print(f\"The accuracy of the system for k = {i} is: {accuracy: .2f}%\")\n",
        "    scaled_accuracy_list.append(accuracy)\n",
        "except Exception as e:\n",
        "  print(\"Error: \", e)"
      ],
      "metadata": {
        "colab": {
          "base_uri": "https://localhost:8080/"
        },
        "id": "JuUs-AxaHfox",
        "outputId": "0bc6c182-2552-4008-d421-2123bb13418d"
      },
      "execution_count": 105,
      "outputs": [
        {
          "output_type": "stream",
          "name": "stdout",
          "text": [
            "The accuracy of the system for k = 1 is:  70.00%\n",
            "The accuracy of the system for k = 2 is:  70.43%\n",
            "The accuracy of the system for k = 3 is:  70.87%\n",
            "The accuracy of the system for k = 4 is:  71.74%\n",
            "The accuracy of the system for k = 5 is:  71.74%\n",
            "The accuracy of the system for k = 6 is:  73.48%\n",
            "The accuracy of the system for k = 7 is:  71.74%\n",
            "The accuracy of the system for k = 8 is:  74.35%\n",
            "The accuracy of the system for k = 9 is:  74.35%\n",
            "The accuracy of the system for k = 10 is:  74.35%\n",
            "The accuracy of the system for k = 11 is:  74.78%\n",
            "The accuracy of the system for k = 12 is:  73.04%\n",
            "The accuracy of the system for k = 13 is:  74.78%\n",
            "The accuracy of the system for k = 14 is:  74.78%\n",
            "The accuracy of the system for k = 15 is:  76.09%\n"
          ]
        }
      ]
    },
    {
      "cell_type": "code",
      "source": [
        "# calculating the time taken to predict using k from 1 to 15\n",
        "# for scaled data\n",
        "scaled_time_taken_list = []\n",
        "try:\n",
        "  for i in range(1, 16):\n",
        "    time_taken = timeit(\"predict_class_all(x_test_scaled, x_train_scaled, y_train, k = i)\", globals=globals(), number = 1)\n",
        "    print(f\"The time taken to predict for k = {i} is: {time_taken} seconds\")\n",
        "    scaled_time_taken_list.append(time_taken)\n",
        "except Exception as e:\n",
        "  print(\"Error: \", e)\n"
      ],
      "metadata": {
        "colab": {
          "base_uri": "https://localhost:8080/"
        },
        "id": "KqgtptHyH0wS",
        "outputId": "4d8b962f-c3ef-40bc-e392-3b3cc0ebb3bb"
      },
      "execution_count": 106,
      "outputs": [
        {
          "output_type": "stream",
          "name": "stdout",
          "text": [
            "The time taken to predict for k = 1 is: 1.6168035719992986 seconds\n",
            "The time taken to predict for k = 2 is: 1.4487627359994804 seconds\n",
            "The time taken to predict for k = 3 is: 0.9733675400002539 seconds\n",
            "The time taken to predict for k = 4 is: 0.8248076090003451 seconds\n",
            "The time taken to predict for k = 5 is: 0.9174176189999343 seconds\n",
            "The time taken to predict for k = 6 is: 0.8247096089999104 seconds\n",
            "The time taken to predict for k = 7 is: 0.8209608240003945 seconds\n",
            "The time taken to predict for k = 8 is: 0.8346650050007156 seconds\n",
            "The time taken to predict for k = 9 is: 0.8235506729997724 seconds\n",
            "The time taken to predict for k = 10 is: 0.8186622989996977 seconds\n",
            "The time taken to predict for k = 11 is: 0.8367257319996497 seconds\n",
            "The time taken to predict for k = 12 is: 0.8183067930003745 seconds\n",
            "The time taken to predict for k = 13 is: 0.8278902689999086 seconds\n",
            "The time taken to predict for k = 14 is: 0.8267661840000073 seconds\n",
            "The time taken to predict for k = 15 is: 1.3099462509999285 seconds\n"
          ]
        }
      ]
    },
    {
      "cell_type": "code",
      "source": [
        "k = [1, 2, 3, 4, 5, 6, 7, 8, 9, 10, 11, 12, 13, 14, 15]\n",
        "\n",
        "# creating dataframe for accuracy data\n",
        "accuracy_df = pd.DataFrame({\n",
        "    \"k\": k,\n",
        "    \"Original Accuracy\": original_accuracy_list,\n",
        "    \"Scaled Accuracy\": scaled_accuracy_list\n",
        "}).set_index(\"k\")\n",
        "print(accuracy_df)"
      ],
      "metadata": {
        "colab": {
          "base_uri": "https://localhost:8080/"
        },
        "id": "Turpse0QJHRs",
        "outputId": "be0965a2-baf0-440e-f57f-f273e644ea1c"
      },
      "execution_count": 118,
      "outputs": [
        {
          "output_type": "stream",
          "name": "stdout",
          "text": [
            "    Original Accuracy  Scaled Accuracy\n",
            "k                                     \n",
            "1           68.695652        70.000000\n",
            "2           72.608696        70.434783\n",
            "3           67.391304        70.869565\n",
            "4           72.173913        71.739130\n",
            "5           68.695652        71.739130\n",
            "6           70.000000        73.478261\n",
            "7           69.130435        71.739130\n",
            "8           71.304348        74.347826\n",
            "9           70.000000        74.347826\n",
            "10          71.739130        74.347826\n",
            "11          73.043478        74.782609\n",
            "12          73.913043        73.043478\n",
            "13          74.347826        74.782609\n",
            "14          72.608696        74.782609\n",
            "15          73.913043        76.086957\n"
          ]
        }
      ]
    },
    {
      "cell_type": "code",
      "source": [
        "# ploting the data in grouped bar chart\n",
        "accuracy_bar = accuracy_df.plot(kind='bar', figsize=(14, 8), color=['orange', 'blue'])\n",
        "plt.ylabel(\"Accuracy\")\n",
        "plt.xlabel(\"k Value\")\n",
        "plt.title(\"Accuracy of KNN Model for Original and Scaled Data\")\n"
      ],
      "metadata": {
        "colab": {
          "base_uri": "https://localhost:8080/",
          "height": 540
        },
        "id": "k8U6yaCfJ0Eq",
        "outputId": "897c3243-10cd-4fc6-a494-b8ee1ba08c04"
      },
      "execution_count": 136,
      "outputs": [
        {
          "output_type": "execute_result",
          "data": {
            "text/plain": [
              "Text(0.5, 1.0, 'Accuracy of KNN Model for Original and Scaled Data')"
            ]
          },
          "metadata": {},
          "execution_count": 136
        },
        {
          "output_type": "display_data",
          "data": {
            "text/plain": [
              "<Figure size 1400x800 with 1 Axes>"
            ],
            "image/png": "[encoded data removed]"
          },
          "metadata": {}
        }
      ]
    },
    {
      "cell_type": "code",
      "source": [
        "# creating dataframe for time taken\n",
        "time_taken_df = pd.DataFrame({\n",
        "    \"k\": k,\n",
        "    \"Original Time Taken\": original_time_taken_list,\n",
        "    \"Scaled Time Taken\": scaled_time_taken_list\n",
        "}).set_index(\"k\")\n",
        "print(time_taken_df)"
      ],
      "metadata": {
        "colab": {
          "base_uri": "https://localhost:8080/"
        },
        "id": "Wjo02RnOJtrb",
        "outputId": "38c8792c-a29c-41ea-a895-12af7a6993da"
      },
      "execution_count": 122,
      "outputs": [
        {
          "output_type": "stream",
          "name": "stdout",
          "text": [
            "    Original Time Taken  Scaled Time Taken\n",
            "k                                         \n",
            "1              1.341514           1.616804\n",
            "2              1.450304           1.448763\n",
            "3              1.447592           0.973368\n",
            "4              1.018005           0.824808\n",
            "5              0.816854           0.917418\n",
            "6              0.827795           0.824710\n",
            "7              0.837798           0.820961\n",
            "8              0.842766           0.834665\n",
            "9              0.849415           0.823551\n",
            "10             0.828995           0.818662\n",
            "11             0.852993           0.836726\n",
            "12             0.836273           0.818307\n",
            "13             0.876655           0.827890\n",
            "14             0.829804           0.826766\n",
            "15             0.853684           1.309946\n"
          ]
        }
      ]
    },
    {
      "cell_type": "code",
      "source": [
        "# ploting the data in grouped bar chart for timing\n",
        "time_bar = time_taken_df.plot(kind = 'bar', figsize = (14, 6), color = ['green', 'navy'])\n",
        "plt.ylabel(\"Accuracy\")\n",
        "plt.xlabel(\"k Value\")\n",
        "plt.title(\"Time Taken of KNN Model for Original and Scaled Data\")"
      ],
      "metadata": {
        "colab": {
          "base_uri": "https://localhost:8080/",
          "height": 428
        },
        "id": "lJ1V7I7RLjyP",
        "outputId": "ddf9b4f1-f78e-482b-e8c1-fe68cf4440a5"
      },
      "execution_count": 135,
      "outputs": [
        {
          "output_type": "execute_result",
          "data": {
            "text/plain": [
              "Text(0.5, 1.0, 'Time Taken of KNN Model for Original and Scaled Data')"
            ]
          },
          "metadata": {},
          "execution_count": 135
        },
        {
          "output_type": "display_data",
          "data": {
            "text/plain": [
              "<Figure size 1400x600 with 1 Axes>"
            ],
            "image/png": "[encoded data removed]"
          },
          "metadata": {}
        }
      ]
    },
    {
      "cell_type": "markdown",
      "source": [
        "In a KNN model, the value of k is a hyper parameter set by the user. It is the total number of nearest class that is needed to be selected to find the class prediction of a given testing.\n",
        "\n",
        "Analyzing the comparison and the bar chart, it can seen that as the value of k increases the overall accuracy of the model also gradually increases. In some cases where the value of k is even, the accuracy is comparitively lower than odd value of k. For example when k - 12, the accuracy of both original and scaled data is lower. As the model selects the nearest class to predict the data, if we use even numbers, it may create a tie between the classes selected leading to a inaccurate prediction.\n",
        "\n",
        "According to my analysis, the optimal k for original data is 13 where the overall accuracy is 74.35% adn the optimal k for scaled data is 15 where the overall accuracy is 76.09%."
      ],
      "metadata": {
        "id": "7yFvPF4FOd_6"
      }
    }
  ]
}